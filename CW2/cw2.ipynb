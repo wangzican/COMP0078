{
 "cells": [
  {
   "cell_type": "code",
   "execution_count": 4,
   "metadata": {},
   "outputs": [],
   "source": [
    "import kernel_perceptron as kp\n",
    "import numpy as np"
   ]
  },
  {
   "cell_type": "code",
   "execution_count": 5,
   "metadata": {},
   "outputs": [],
   "source": [
    "data = np.loadtxt('Data\\zipcombo.dat')"
   ]
  },
  {
   "cell_type": "code",
   "execution_count": 6,
   "metadata": {},
   "outputs": [
    {
     "name": "stdout",
     "output_type": "stream",
     "text": [
      "run  0 degree  1\n",
      "epoch  0 , errors:  656\n",
      "epoch  1 , errors:  385\n",
      "epoch  2 , errors:  334\n",
      "epoch  0 , errors:  708\n",
      "epoch  1 , errors:  422\n",
      "epoch  2 , errors:  376\n",
      "epoch  3 , errors:  335\n",
      "run  0 degree  2\n",
      "epoch  0 , errors:  480\n",
      "epoch  1 , errors:  188\n",
      "epoch  2 , errors:  130\n",
      "epoch  0 , errors:  489\n",
      "epoch  1 , errors:  203\n",
      "epoch  2 , errors:  101\n",
      "epoch  0 , errors:  805\n",
      "epoch  1 , errors:  322\n",
      "epoch  2 , errors:  224\n",
      "run  1 degree  1\n",
      "epoch  0 , errors:  665\n",
      "epoch  1 , errors:  379\n",
      "epoch  2 , errors:  324\n",
      "epoch  0 , errors:  682\n",
      "epoch  1 , errors:  405\n",
      "epoch  2 , errors:  345\n",
      "run  1 degree  2\n",
      "epoch  0 , errors:  477\n",
      "epoch  1 , errors:  213\n",
      "epoch  2 , errors:  106\n",
      "epoch  0 , errors:  521\n",
      "epoch  1 , errors:  176\n",
      "epoch  2 , errors:  128\n",
      "epoch  0 , errors:  806\n",
      "epoch  1 , errors:  315\n",
      "epoch  2 , errors:  182\n"
     ]
    }
   ],
   "source": [
    "a, b = kp.P1Q2(data)"
   ]
  },
  {
   "cell_type": "code",
   "execution_count": null,
   "metadata": {},
   "outputs": [],
   "source": [
    "import pandas as pd\n",
    "\n",
    "a = pd.DataFrame(a)\n",
    "b = pd.DataFrame(b)\n",
    "print(a, b)"
   ]
  }
 ],
 "metadata": {
  "kernelspec": {
   "display_name": "Python 3.8.5 ('base')",
   "language": "python",
   "name": "python3"
  },
  "language_info": {
   "codemirror_mode": {
    "name": "ipython",
    "version": 3
   },
   "file_extension": ".py",
   "mimetype": "text/x-python",
   "name": "python",
   "nbconvert_exporter": "python",
   "pygments_lexer": "ipython3",
   "version": "3.8.5"
  },
  "orig_nbformat": 4,
  "vscode": {
   "interpreter": {
    "hash": "88279d2366fe020547cde40dd65aa0e3aa662a6ec1f3ca12d88834876c85e1a6"
   }
  }
 },
 "nbformat": 4,
 "nbformat_minor": 2
}
