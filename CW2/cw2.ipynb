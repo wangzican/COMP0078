{
 "cells": [
  {
   "cell_type": "code",
   "execution_count": 1,
   "metadata": {},
   "outputs": [],
   "source": [
    "import Part_one as kp\n",
    "import numpy as np"
   ]
  },
  {
   "cell_type": "code",
   "execution_count": 2,
   "metadata": {},
   "outputs": [],
   "source": [
    "data = np.loadtxt('Data\\zipcombo.dat')"
   ]
  },
  {
   "cell_type": "code",
   "execution_count": 3,
   "metadata": {},
   "outputs": [
    {
     "name": "stdout",
     "output_type": "stream",
     "text": [
      "degree:  1\n",
      "degree:  2\n",
      "degree:  3\n",
      "degree:  4\n",
      "degree:  5\n",
      "degree:  6\n",
      "degree:  7\n",
      "Q1: train and test error rate for each degree\n",
      "[(0.08893519763377251, 0.0027564451303191515), (0.028737563861253018, 0.001208414451657708), (0.01593170207044905, 0.001344783501959949), (0.010459801021780048, 0.0015525894093306857), (0.007609572465716592, 0.0010286560507334534), (0.00621134713632697, 0.0013615476096985382), (0.005633234740521646, 0.0008319294705246025)] [(0.09870967741935484, 0.014455668593733352), (0.05088709677419355, 0.004578660153474755), (0.04397849462365591, 0.008749741915160526), (0.035, 0.004817456310612428), (0.03580645161290323, 0.005644905268131909), (0.03416666666666666, 0.003469616897467572), (0.035537634408602144, 0.003229836192661417)]\n"
     ]
    }
   ],
   "source": [
    "kp.P1Q1(data)"
   ]
  },
  {
   "cell_type": "code",
   "execution_count": 4,
   "metadata": {},
   "outputs": [
    {
     "name": "stdout",
     "output_type": "stream",
     "text": [
      "run  0 degree  1\n",
      "run  0 degree  2\n",
      "run  0 degree  3\n",
      "run  0 degree  4\n",
      "run  0 degree  5\n",
      "run  0 degree  6\n",
      "run  0 degree  7\n",
      "test after validation\n",
      "run  1 degree  1\n",
      "run  1 degree  2\n",
      "run  1 degree  3\n",
      "run  1 degree  4\n",
      "run  1 degree  5\n",
      "run  1 degree  6\n",
      "run  1 degree  7\n",
      "test after validation\n",
      "run  2 degree  1\n",
      "run  2 degree  2\n",
      "run  2 degree  3\n",
      "run  2 degree  4\n",
      "run  2 degree  5\n",
      "run  2 degree  6\n",
      "run  2 degree  7\n",
      "test after validation\n",
      "run  3 degree  1\n",
      "run  3 degree  2\n",
      "run  3 degree  3\n",
      "run  3 degree  4\n",
      "run  3 degree  5\n",
      "run  3 degree  6\n",
      "run  3 degree  7\n",
      "test after validation\n",
      "run  4 degree  1\n",
      "run  4 degree  2\n",
      "run  4 degree  3\n",
      "run  4 degree  4\n",
      "run  4 degree  5\n",
      "run  4 degree  6\n",
      "run  4 degree  7\n",
      "test after validation\n",
      "run  5 degree  1\n",
      "run  5 degree  2\n",
      "run  5 degree  3\n",
      "run  5 degree  4\n",
      "run  5 degree  5\n",
      "run  5 degree  6\n",
      "run  5 degree  7\n",
      "test after validation\n",
      "run  6 degree  1\n",
      "run  6 degree  2\n",
      "run  6 degree  3\n",
      "run  6 degree  4\n",
      "run  6 degree  5\n",
      "run  6 degree  6\n",
      "run  6 degree  7\n",
      "test after validation\n",
      "run  7 degree  1\n",
      "run  7 degree  2\n",
      "run  7 degree  3\n",
      "run  7 degree  4\n",
      "run  7 degree  5\n",
      "run  7 degree  6\n",
      "run  7 degree  7\n",
      "test after validation\n",
      "run  8 degree  1\n",
      "run  8 degree  2\n",
      "run  8 degree  3\n",
      "run  8 degree  4\n",
      "run  8 degree  5\n",
      "run  8 degree  6\n",
      "run  8 degree  7\n",
      "test after validation\n",
      "run  9 degree  1\n",
      "run  9 degree  2\n",
      "run  9 degree  3\n",
      "run  9 degree  4\n",
      "run  9 degree  5\n",
      "run  9 degree  6\n",
      "run  9 degree  7\n",
      "test after validation\n",
      "run  10 degree  1\n",
      "run  10 degree  2\n",
      "run  10 degree  3\n",
      "run  10 degree  4\n",
      "run  10 degree  5\n",
      "run  10 degree  6\n",
      "run  10 degree  7\n",
      "test after validation\n",
      "run  11 degree  1\n",
      "run  11 degree  2\n",
      "run  11 degree  3\n",
      "run  11 degree  4\n",
      "run  11 degree  5\n",
      "run  11 degree  6\n",
      "run  11 degree  7\n",
      "test after validation\n",
      "run  12 degree  1\n",
      "run  12 degree  2\n",
      "run  12 degree  3\n",
      "run  12 degree  4\n",
      "run  12 degree  5\n",
      "run  12 degree  6\n",
      "run  12 degree  7\n",
      "test after validation\n",
      "run  13 degree  1\n",
      "run  13 degree  2\n",
      "run  13 degree  3\n",
      "run  13 degree  4\n",
      "run  13 degree  5\n",
      "run  13 degree  6\n",
      "run  13 degree  7\n",
      "test after validation\n",
      "run  14 degree  1\n",
      "run  14 degree  2\n",
      "run  14 degree  3\n",
      "run  14 degree  4\n",
      "run  14 degree  5\n",
      "run  14 degree  6\n",
      "run  14 degree  7\n",
      "test after validation\n",
      "run  15 degree  1\n",
      "run  15 degree  2\n",
      "run  15 degree  3\n",
      "run  15 degree  4\n",
      "run  15 degree  5\n",
      "run  15 degree  6\n",
      "run  15 degree  7\n",
      "test after validation\n",
      "run  16 degree  1\n",
      "run  16 degree  2\n",
      "run  16 degree  3\n",
      "run  16 degree  4\n",
      "run  16 degree  5\n",
      "run  16 degree  6\n",
      "run  16 degree  7\n",
      "test after validation\n",
      "run  17 degree  1\n",
      "run  17 degree  2\n",
      "run  17 degree  3\n",
      "run  17 degree  4\n",
      "run  17 degree  5\n",
      "run  17 degree  6\n",
      "run  17 degree  7\n",
      "test after validation\n",
      "run  18 degree  1\n",
      "run  18 degree  2\n",
      "run  18 degree  3\n",
      "run  18 degree  4\n",
      "run  18 degree  5\n",
      "run  18 degree  6\n",
      "run  18 degree  7\n",
      "test after validation\n",
      "run  19 degree  1\n",
      "run  19 degree  2\n",
      "run  19 degree  3\n",
      "run  19 degree  4\n",
      "run  19 degree  5\n",
      "run  19 degree  6\n",
      "run  19 degree  7\n",
      "test after validation\n",
      "Q2: test errors and optimal ds for each run: \n",
      "[0.03763440860215054, 0.02903225806451613, 0.032795698924731186, 0.038172043010752686, 0.03494623655913978, 0.03494623655913978, 0.03333333333333333, 0.03655913978494624, 0.026344086021505377, 0.03118279569892473, 0.031720430107526884, 0.034408602150537634, 0.03064516129032258, 0.03387096774193549, 0.03655913978494624, 0.035483870967741936, 0.021505376344086023, 0.031720430107526884, 0.03978494623655914, 0.03924731182795699] [5, 5, 7, 5, 5, 7, 6, 7, 6, 7, 5, 6, 7, 7, 6, 5, 7, 4, 5, 7]\n",
      "test:  0.03349462365591398  +-  0.004328207432812631\n",
      "d:  5.95  +-  0.9733961166965892\n"
     ]
    }
   ],
   "source": [
    "mean, std = kp.P1Q2(data)"
   ]
  },
  {
   "cell_type": "code",
   "execution_count": 7,
   "metadata": {},
   "outputs": [
    {
     "name": "stdout",
     "output_type": "stream",
     "text": [
      "                    0                   1                   2  \\\n",
      "0          (0.0, 0.0)          (0.0, 0.0)  (0.00291, 0.00308)   \n",
      "1          (0.0, 0.0)          (0.0, 0.0)  (0.00119, 0.00182)   \n",
      "2  (0.00461, 0.00406)  (0.00191, 0.00261)          (0.0, 0.0)   \n",
      "3  (0.00332, 0.00402)  (0.00027, 0.00118)  (0.00906, 0.00795)   \n",
      "4  (0.00053, 0.00233)   (0.00636, 0.0074)  (0.00894, 0.00803)   \n",
      "5  (0.00767, 0.00748)  (0.00068, 0.00203)   (0.0022, 0.00473)   \n",
      "6   (0.00974, 0.0077)  (0.00511, 0.00556)  (0.00349, 0.00429)   \n",
      "7          (0.0, 0.0)  (0.00098, 0.00233)  (0.00754, 0.00693)   \n",
      "8  (0.00645, 0.00722)  (0.00345, 0.00559)  (0.00742, 0.00842)   \n",
      "9  (0.00237, 0.00432)  (0.00095, 0.00297)   (0.00155, 0.0027)   \n",
      "\n",
      "                    3                   4                   5  \\\n",
      "0  (0.00192, 0.00266)  (0.00048, 0.00114)  (0.00193, 0.00238)   \n",
      "1   (0.0002, 0.00088)  (0.00346, 0.00294)          (0.0, 0.0)   \n",
      "2   (0.00622, 0.0061)  (0.00763, 0.00641)  (0.00136, 0.00296)   \n",
      "3          (0.0, 0.0)  (0.00102, 0.00243)  (0.01755, 0.01148)   \n",
      "4  (0.00027, 0.00118)          (0.0, 0.0)   (0.0024, 0.00351)   \n",
      "5  (0.01741, 0.01393)   (0.0062, 0.00809)          (0.0, 0.0)   \n",
      "6  (0.00028, 0.00123)  (0.00551, 0.00556)   (0.0036, 0.00402)   \n",
      "7  (0.00101, 0.00243)  (0.00693, 0.00553)   (0.0003, 0.00131)   \n",
      "8  (0.01382, 0.01084)  (0.00592, 0.00682)   (0.01215, 0.0083)   \n",
      "9  (0.00031, 0.00136)   (0.01613, 0.0131)  (0.00157, 0.00272)   \n",
      "\n",
      "                    6                   7                   8  \\\n",
      "0  (0.00399, 0.00313)  (0.00016, 0.00071)  (0.00049, 0.00117)   \n",
      "1  (0.00158, 0.00264)   (0.00118, 0.0025)    (0.00079, 0.002)   \n",
      "2  (0.00161, 0.00293)  (0.00578, 0.00607)  (0.00684, 0.00625)   \n",
      "3          (0.0, 0.0)   (0.0018, 0.00333)     (0.01, 0.00713)   \n",
      "4  (0.00494, 0.00415)  (0.00386, 0.00867)  (0.00179, 0.00273)   \n",
      "5  (0.00928, 0.00785)  (0.00109, 0.00351)   (0.0094, 0.00774)   \n",
      "6          (0.0, 0.0)          (0.0, 0.0)   (0.00529, 0.0051)   \n",
      "7          (0.0, 0.0)          (0.0, 0.0)  (0.00624, 0.00535)   \n",
      "8  (0.00294, 0.00528)  (0.00607, 0.00696)          (0.0, 0.0)   \n",
      "9          (0.0, 0.0)  (0.01581, 0.01053)  (0.00341, 0.00493)   \n",
      "\n",
      "                    9  \n",
      "0  (0.00063, 0.00127)  \n",
      "1  (0.00093, 0.00327)  \n",
      "2  (0.00107, 0.00215)  \n",
      "3  (0.00189, 0.00354)  \n",
      "4  (0.00884, 0.00549)  \n",
      "5  (0.00305, 0.00396)  \n",
      "6    (0.0006, 0.0018)  \n",
      "7   (0.0146, 0.01188)  \n",
      "8  (0.00323, 0.00476)  \n",
      "9          (0.0, 0.0)  \n"
     ]
    }
   ],
   "source": [
    "# given the mean and std from Q2\n",
    "kp.P1Q3(mean, std)"
   ]
  },
  {
   "cell_type": "code",
   "execution_count": null,
   "metadata": {},
   "outputs": [],
   "source": [
    "kp.P1Q4(data)"
   ]
  },
  {
   "cell_type": "code",
   "execution_count": null,
   "metadata": {},
   "outputs": [],
   "source": [
    "kp.P1Q51(data)"
   ]
  },
  {
   "cell_type": "code",
   "execution_count": null,
   "metadata": {},
   "outputs": [],
   "source": [
    "kp.P1Q52(data)"
   ]
  },
  {
   "cell_type": "code",
   "execution_count": null,
   "metadata": {},
   "outputs": [],
   "source": [
    "kp.P1Q61(data)"
   ]
  },
  {
   "cell_type": "code",
   "execution_count": null,
   "metadata": {},
   "outputs": [],
   "source": [
    "kp.P1Q62(data)"
   ]
  }
 ],
 "metadata": {
  "kernelspec": {
   "display_name": "Python 3.10.1 ('Comp0078-env': venv)",
   "language": "python",
   "name": "python3"
  },
  "language_info": {
   "codemirror_mode": {
    "name": "ipython",
    "version": 3
   },
   "file_extension": ".py",
   "mimetype": "text/x-python",
   "name": "python",
   "nbconvert_exporter": "python",
   "pygments_lexer": "ipython3",
   "version": "3.10.1"
  },
  "orig_nbformat": 4,
  "vscode": {
   "interpreter": {
    "hash": "c3f23e59692fd39043732286ae4d9b39d1738ccaeb94be15320a90704c42c8bd"
   }
  }
 },
 "nbformat": 4,
 "nbformat_minor": 2
}
